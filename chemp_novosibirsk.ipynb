{
 "cells": [
  {
   "cell_type": "markdown",
   "metadata": {},
   "source": [
    "# ЦИФРОВОЙ ПРОРЫВ 2022"
   ]
  },
  {
   "cell_type": "markdown",
   "metadata": {},
   "source": [
    "# Чемпионат в Новосибирской области"
   ]
  },
  {
   "cell_type": "markdown",
   "metadata": {},
   "source": [
    "## Классификация опор контактной сети и других объектов в массиве точек лазерных отражений для обеспечения безопасности движения железнодорожного транспорта\n",
    "\n",
    "Российский железнодорожный комплекс — один из крупнейших в мире. Общая протяженность эксплуатационной длины железнодорожных\n",
    "путей превышает 120 тысяч километров. В прошлом году в нашей стране поезда и электрички перевезли более 1 миллиарда пассажиров. Именно поэтому к проектированию и эксплуатации железнодорожной инфраструктуры предъявляются высокие требования по обеспечению\n",
    "безопасности.\n",
    "\n",
    "В связи с совершенствованием технологий геодезической съемки, инновационным решением при диагностике, строительстве и эксплуатации железнодорожных путей и придорожной инфраструктуры является построение цифровых моделей пути (ЦМП) на основе данных лазерного сканирования. \n",
    "\n",
    "Результат лазерного сканирования — это высокоточный массив точек лазерных отражений (ТЛО), на основе которого проводятся все необходимые измерения и последующий анализ данных. Определение опор контактной сети (ОКС) в массиве ТЛО — это одна из обязательных подзадач процесса определения габаритов приближения подвижного состава к ОКС.\n",
    "\n",
    "В настоящий момент определение взаимного расположения объектов железнодорожной инфраструктуры происходит при натурном обследовании — в связи с чем высок риск получения недостоверной информации, что критично для обеспечения безопасности движения."
   ]
  },
  {
   "cell_type": "markdown",
   "metadata": {},
   "source": [
    "# Описание задачи\n",
    "\n",
    "\n",
    "**Задача: создать решение по прогнозированию класса ТЛО с использованием параметров этой точки.**\n",
    "\n",
    "Описание входных значений\n",
    "\n",
    "файл **train.csv** — содержит данные для обучения модели:\n",
    "- Параметр **id** — уникальный идентификатор ТЛО.\n",
    "- Параметр **Easting** — направление на восток, условная координата Х\n",
    "ТЛО в метрах\n",
    "- Параметр **Northing** — направление на север, условная координата У\n",
    "ТЛО в метрах\n",
    "- Параметр **Height** — отметка (высота), условная координата Н ТЛО в\n",
    "метрах\n",
    "- Параметр **Reflectance** — отражательная способность ТЛО\n",
    "- Параметр **Class** — признак класса точки\n",
    "\n",
    "файл **test.csv** - содержит данные ТЛО для предсказания\n",
    "\n",
    "файл **sample_solution.csv** — пример файла для отправки решения\n",
    "\n",
    "Пояснение к данным\n",
    "Столбец «Class»  хранит в себе тип класса точки, где:\n",
    "\n",
    "- 0 – точки земли\n",
    "- 1 – точки опор\n",
    "- 3 – точки растительности\n",
    "- 4 – точки рельсов\n",
    "- 5 – точки элементов контактной сети\n",
    "- 64 – точки шумов\n",
    "\n",
    "**В качестве метрики выступает Recall по столбцу Class.**\n"
   ]
  },
  {
   "cell_type": "markdown",
   "metadata": {},
   "source": [
    "# Этапы реализации:\n",
    "1. Обзор и анализ предоставленных данных (Data analysis).\n",
    "2. Масштабирование и формирование признаков (Preprocessing & Feature engineering). \n",
    "3. Минимизация влияния дисбаланса классов (Over-sampling).\n",
    "4. Модель машинного обучения: алгоритм, обучение, кросс-валидация (Machine learning).\n",
    "5. Формирование результата по тестовой выборке (Submit).\n",
    "6. Как производилась валидация.\n",
    "7. Выводы по работе с данными."
   ]
  },
  {
   "cell_type": "markdown",
   "metadata": {},
   "source": [
    "# 1. Data analysis"
   ]
  },
  {
   "cell_type": "markdown",
   "metadata": {},
   "source": [
    "**Импортируем все, необходимые библиотеки и модули**"
   ]
  },
  {
   "cell_type": "code",
   "execution_count": 1,
   "metadata": {},
   "outputs": [],
   "source": [
    "import time\n",
    "import numpy as np\n",
    "import pandas as pd\n",
    "import seaborn as sns\n",
    "import matplotlib.pyplot as plt\n",
    "from tqdm import tqdm\n",
    "\n",
    "from sklearn.model_selection import train_test_split\n",
    "from sklearn.metrics import recall_score, confusion_matrix\n",
    "\n",
    "from imblearn.over_sampling import SMOTE\n",
    "\n",
    "from xgboost import XGBClassifier\n",
    "\n",
    "pd.options.mode.chained_assignment = None\n",
    "%matplotlib inline"
   ]
  },
  {
   "cell_type": "markdown",
   "metadata": {},
   "source": [
    "**Загрузка данных в датафреймы (файлы должны быть расположены в директории данного решения, либо необходимо указать соответствующие пути к файлам)**"
   ]
  },
  {
   "cell_type": "code",
   "execution_count": 2,
   "metadata": {
    "id": "o9N4JbcWudk2"
   },
   "outputs": [
    {
     "name": "stdout",
     "output_type": "stream",
     "text": [
      "Wall time: 2.82 s\n"
     ]
    }
   ],
   "source": [
    "%%time\n",
    "train = pd.read_csv('train.csv')\n",
    "test = pd.read_csv('test.csv')"
   ]
  },
  {
   "cell_type": "code",
   "execution_count": 3,
   "metadata": {},
   "outputs": [
    {
     "data": {
      "text/html": [
       "<div>\n",
       "<style scoped>\n",
       "    .dataframe tbody tr th:only-of-type {\n",
       "        vertical-align: middle;\n",
       "    }\n",
       "\n",
       "    .dataframe tbody tr th {\n",
       "        vertical-align: top;\n",
       "    }\n",
       "\n",
       "    .dataframe thead th {\n",
       "        text-align: right;\n",
       "    }\n",
       "</style>\n",
       "<table border=\"1\" class=\"dataframe\">\n",
       "  <thead>\n",
       "    <tr style=\"text-align: right;\">\n",
       "      <th></th>\n",
       "      <th>id</th>\n",
       "      <th>Easting</th>\n",
       "      <th>Northing</th>\n",
       "      <th>Height</th>\n",
       "      <th>Reflectance</th>\n",
       "      <th>Class</th>\n",
       "    </tr>\n",
       "  </thead>\n",
       "  <tbody>\n",
       "    <tr>\n",
       "      <th>0</th>\n",
       "      <td>2321251</td>\n",
       "      <td>431696.5375</td>\n",
       "      <td>6.032319e+06</td>\n",
       "      <td>69.2226</td>\n",
       "      <td>-11.14</td>\n",
       "      <td>0</td>\n",
       "    </tr>\n",
       "    <tr>\n",
       "      <th>1</th>\n",
       "      <td>3515173</td>\n",
       "      <td>431710.3835</td>\n",
       "      <td>6.032291e+06</td>\n",
       "      <td>68.9711</td>\n",
       "      <td>-15.16</td>\n",
       "      <td>3</td>\n",
       "    </tr>\n",
       "    <tr>\n",
       "      <th>2</th>\n",
       "      <td>2320295</td>\n",
       "      <td>431696.8099</td>\n",
       "      <td>6.032322e+06</td>\n",
       "      <td>69.2453</td>\n",
       "      <td>-13.59</td>\n",
       "      <td>0</td>\n",
       "    </tr>\n",
       "  </tbody>\n",
       "</table>\n",
       "</div>"
      ],
      "text/plain": [
       "        id      Easting      Northing   Height  Reflectance  Class\n",
       "0  2321251  431696.5375  6.032319e+06  69.2226       -11.14      0\n",
       "1  3515173  431710.3835  6.032291e+06  68.9711       -15.16      3\n",
       "2  2320295  431696.8099  6.032322e+06  69.2453       -13.59      0"
      ]
     },
     "execution_count": 3,
     "metadata": {},
     "output_type": "execute_result"
    }
   ],
   "source": [
    "train.head(3) # смотрим первые записи "
   ]
  },
  {
   "cell_type": "code",
   "execution_count": 4,
   "metadata": {},
   "outputs": [
    {
     "name": "stdout",
     "output_type": "stream",
     "text": [
      "<class 'pandas.core.frame.DataFrame'>\n",
      "RangeIndex: 4222094 entries, 0 to 4222093\n",
      "Data columns (total 6 columns):\n",
      " #   Column       Dtype  \n",
      "---  ------       -----  \n",
      " 0   id           int64  \n",
      " 1   Easting      float64\n",
      " 2   Northing     float64\n",
      " 3   Height       float64\n",
      " 4   Reflectance  float64\n",
      " 5   Class        int64  \n",
      "dtypes: float64(4), int64(2)\n",
      "memory usage: 193.3 MB\n"
     ]
    }
   ],
   "source": [
    "train.info() # смотрим общее описание"
   ]
  },
  {
   "cell_type": "code",
   "execution_count": 5,
   "metadata": {},
   "outputs": [
    {
     "name": "stdout",
     "output_type": "stream",
     "text": [
      "0\n",
      "0\n",
      "0\n",
      "0\n",
      "0\n",
      "0\n"
     ]
    }
   ],
   "source": [
    "for column in train.columns:\n",
    "    print(train[column].isna().sum()) # проверка на пропуски"
   ]
  },
  {
   "cell_type": "code",
   "execution_count": 6,
   "metadata": {},
   "outputs": [
    {
     "data": {
      "text/plain": [
       "0"
      ]
     },
     "execution_count": 6,
     "metadata": {},
     "output_type": "execute_result"
    }
   ],
   "source": [
    "train.duplicated().sum() # проверка на дубликаты"
   ]
  },
  {
   "cell_type": "code",
   "execution_count": 7,
   "metadata": {},
   "outputs": [
    {
     "data": {
      "image/png": "[encoded data removed]",
      "text/plain": [
       "<Figure size 864x576 with 1 Axes>"
      ]
     },
     "metadata": {
      "needs_background": "light"
     },
     "output_type": "display_data"
    }
   ],
   "source": [
    "plt.subplots(figsize=(12, 8))\n",
    "ax = sns.countplot(x=train['Class'])\n",
    "df = pd.DataFrame(train['Class'].value_counts())\n",
    "df['Norm'] = df.Class.map(lambda x: 100 * x / df.Class.sum())\n",
    "df['Sort'] = df.index\n",
    "df = df.sort_values(by='Sort')\n",
    "abs_values = df['Class']\n",
    "rel_values = df['Norm']\n",
    "lbls = [f'{p[0]} ({p[1]:.1f}%)' for p in zip(abs_values, rel_values)]\n",
    "ax.bar_label(container=ax.containers[0], labels=lbls)\n",
    "plt.setp(ax, xlabel=None, ylabel=None, title='Распределение классов по количесту наблюдений')\n",
    "plt.show()"
   ]
  },
  {
   "cell_type": "code",
   "execution_count": 8,
   "metadata": {},
   "outputs": [
    {
     "data": {
      "text/html": [
       "<div>\n",
       "<style scoped>\n",
       "    .dataframe tbody tr th:only-of-type {\n",
       "        vertical-align: middle;\n",
       "    }\n",
       "\n",
       "    .dataframe tbody tr th {\n",
       "        vertical-align: top;\n",
       "    }\n",
       "\n",
       "    .dataframe thead th {\n",
       "        text-align: right;\n",
       "    }\n",
       "</style>\n",
       "<table border=\"1\" class=\"dataframe\">\n",
       "  <thead>\n",
       "    <tr style=\"text-align: right;\">\n",
       "      <th></th>\n",
       "      <th>id</th>\n",
       "      <th>Easting</th>\n",
       "      <th>Northing</th>\n",
       "      <th>Height</th>\n",
       "      <th>Reflectance</th>\n",
       "    </tr>\n",
       "  </thead>\n",
       "  <tbody>\n",
       "    <tr>\n",
       "      <th>0</th>\n",
       "      <td>1836965</td>\n",
       "      <td>431754.6192</td>\n",
       "      <td>6.032265e+06</td>\n",
       "      <td>69.2608</td>\n",
       "      <td>-13.99</td>\n",
       "    </tr>\n",
       "    <tr>\n",
       "      <th>1</th>\n",
       "      <td>3659389</td>\n",
       "      <td>431654.4141</td>\n",
       "      <td>6.032344e+06</td>\n",
       "      <td>68.0129</td>\n",
       "      <td>-10.99</td>\n",
       "    </tr>\n",
       "    <tr>\n",
       "      <th>2</th>\n",
       "      <td>5433033</td>\n",
       "      <td>431686.8574</td>\n",
       "      <td>6.032334e+06</td>\n",
       "      <td>69.2442</td>\n",
       "      <td>-10.26</td>\n",
       "    </tr>\n",
       "  </tbody>\n",
       "</table>\n",
       "</div>"
      ],
      "text/plain": [
       "        id      Easting      Northing   Height  Reflectance\n",
       "0  1836965  431754.6192  6.032265e+06  69.2608       -13.99\n",
       "1  3659389  431654.4141  6.032344e+06  68.0129       -10.99\n",
       "2  5433033  431686.8574  6.032334e+06  69.2442       -10.26"
      ]
     },
     "execution_count": 8,
     "metadata": {},
     "output_type": "execute_result"
    }
   ],
   "source": [
    "test.head(3) # смотрим первые записи "
   ]
  },
  {
   "cell_type": "code",
   "execution_count": 9,
   "metadata": {},
   "outputs": [
    {
     "name": "stdout",
     "output_type": "stream",
     "text": [
      "<class 'pandas.core.frame.DataFrame'>\n",
      "RangeIndex: 1809469 entries, 0 to 1809468\n",
      "Data columns (total 5 columns):\n",
      " #   Column       Dtype  \n",
      "---  ------       -----  \n",
      " 0   id           int64  \n",
      " 1   Easting      float64\n",
      " 2   Northing     float64\n",
      " 3   Height       float64\n",
      " 4   Reflectance  float64\n",
      "dtypes: float64(4), int64(1)\n",
      "memory usage: 69.0 MB\n"
     ]
    }
   ],
   "source": [
    "test.info() # смотрим общее описание"
   ]
  },
  {
   "cell_type": "code",
   "execution_count": 10,
   "metadata": {},
   "outputs": [
    {
     "name": "stdout",
     "output_type": "stream",
     "text": [
      "0\n",
      "0\n",
      "0\n",
      "0\n",
      "0\n"
     ]
    }
   ],
   "source": [
    "for column in test.columns:\n",
    "    print(test[column].isna().sum()) # проверка на пропуски"
   ]
  },
  {
   "cell_type": "code",
   "execution_count": 11,
   "metadata": {},
   "outputs": [
    {
     "name": "stdout",
     "output_type": "stream",
     "text": [
      "Минимальное занчение параметра Easting в train: 431629.442 Максимальное занчение параметра Easting в train: 431781.1712\n",
      "Минимальное занчение параметра Easting в test: 431629.6401 Максимальное занчение параметра Easting в test: 431781.2418\n",
      "Минимальное занчение параметра Northing в train: 6032231.7455 Максимальное занчение параметра Northing в train: 6032383.729\n",
      "Минимальное занчение параметра Northing в test: 6032231.5173 Максимальное занчение параметра Northing в test: 6032383.6382\n",
      "Минимальное занчение параметра Height в train: 60.4144 Максимальное занчение параметра Height в train: 133.7185\n",
      "Минимальное занчение параметра Height в test: 60.5837 Максимальное занчение параметра Height в test: 115.8224\n",
      "Минимальное занчение параметра Reflectance в train: -37.96 Максимальное занчение параметра Reflectance в train: 4.36\n",
      "Минимальное занчение параметра Reflectance в test: -37.7 Максимальное занчение параметра Reflectance в test: 3.04\n"
     ]
    }
   ],
   "source": [
    "for column in ['Easting', 'Northing', 'Height', 'Reflectance']:\n",
    "    print(f'Минимальное занчение параметра {column} в train: {train[column].min()}', f'Максимальное занчение параметра {column} в train: {train[column].max()}')\n",
    "    print(f'Минимальное занчение параметра {column} в test: {test[column].min()}', f'Максимальное занчение параметра {column} в test: {test[column].max()}')"
   ]
  },
  {
   "cell_type": "code",
   "execution_count": 12,
   "metadata": {},
   "outputs": [
    {
     "data": {
      "image/png": "[encoded data removed]",
      "text/plain": [
       "<Figure size 1080x1080 with 2 Axes>"
      ]
     },
     "metadata": {
      "needs_background": "light"
     },
     "output_type": "display_data"
    }
   ],
   "source": [
    "plt.rcParams['figure.figsize']=(15,15)\n",
    "heatmap = sns.heatmap(train.corr(), vmin=-1, vmax=1, annot=True, cmap='BrBG')\n",
    "heatmap.set_title('Correlation Heatmap', fontdict={'fontsize':18}, pad=12);"
   ]
  },
  {
   "cell_type": "markdown",
   "metadata": {},
   "source": [
    "**Из обзора и анализа данных делаем три вывода**\n",
    "1. Распределение значений в параметрах **Easting** и **Northing** позволяет взять в них остаток от деления на 1000 \n",
    "2. Присутствует явный дисбаланс классов в обучающем наборе, который необходимо учесть при обучении модели\n",
    "3. Между признаками наблюдаются достаточно значимые линейные, как положительные, так и отрицательные взаимосвязи"
   ]
  },
  {
   "cell_type": "markdown",
   "metadata": {},
   "source": [
    "# 2. Preprocessing & Feature engineering"
   ]
  },
  {
   "cell_type": "markdown",
   "metadata": {},
   "source": [
    "## 2.1. Параметр \"Easting\"\n",
    "\n",
    "На основании выводов из обзора и анализа данных изменим данный параметр, взяв остаток от деления на 1000"
   ]
  },
  {
   "cell_type": "code",
   "execution_count": 13,
   "metadata": {},
   "outputs": [],
   "source": [
    "train.Easting = train.Easting.map(lambda x: x % 1000) # изменяем параметр в train\n",
    "test.Easting = test.Easting.map(lambda x: x % 1000) # изменяем параметр в test"
   ]
  },
  {
   "cell_type": "markdown",
   "metadata": {},
   "source": [
    "## 2.2. Параметр \"Northing\"\n",
    "\n",
    "На основании выводов из обзора и анализа данных изменим данный параметр, взяв остаток от деления на 1000"
   ]
  },
  {
   "cell_type": "code",
   "execution_count": 14,
   "metadata": {},
   "outputs": [],
   "source": [
    "train.Northing = train.Northing.map(lambda x: x % 1000) # изменяем параметр в train\n",
    "test.Northing = test.Northing.map(lambda x: x % 1000) # изменяем параметр в test"
   ]
  },
  {
   "cell_type": "markdown",
   "metadata": {},
   "source": [
    "## 2.3. Параметр \"Height\"\n",
    "Мы видим, что масштаб данного параметра меньше получившихся двух предыдущих параметров, было принято решение увеличить данный параметр в несколько раз, в результате при валидации, наилучший коэффициент для масштатбирования - 4. То есть \"растягиваем\" координату **Height** в четыре раза. "
   ]
  },
  {
   "cell_type": "code",
   "execution_count": 15,
   "metadata": {},
   "outputs": [],
   "source": [
    "train.Height = train.Height.map(lambda x: x * 4) # изменяем параметр в train\n",
    "test.Height = test.Height.map(lambda x: x * 4) # изменяем параметр в test"
   ]
  },
  {
   "cell_type": "markdown",
   "metadata": {},
   "source": [
    "**Так как выявлены достаточно значимые линейные взаимосвязи между имеющимися признаками, было принято решение рассмотреть добавление в данные новых признаков, являющихся различными линейными комбинациями из имеющихся. При валидации был определен эффект от добавления следующих двух признаков.**"
   ]
  },
  {
   "cell_type": "markdown",
   "metadata": {},
   "source": [
    "## 2.4. Параметр S1 = \"Easting\" + \"Northing\""
   ]
  },
  {
   "cell_type": "code",
   "execution_count": 16,
   "metadata": {},
   "outputs": [],
   "source": [
    "train['S1'] = (train.Easting + train.Northing) # создаем параметр в train\n",
    "test['S1'] = (test.Easting + test.Northing) # создаем параметр в test"
   ]
  },
  {
   "cell_type": "markdown",
   "metadata": {},
   "source": [
    "## 2.5. Параметр S2 = \"Easting\" + \"Northing\"  + \"Height\""
   ]
  },
  {
   "cell_type": "code",
   "execution_count": 17,
   "metadata": {},
   "outputs": [],
   "source": [
    "train['S2'] = train.Easting  + train.Northing + train.Height # создаем параметр в train \n",
    "test['S2'] = test.Easting  + test.Northing + test.Height # создаем параметр в test"
   ]
  },
  {
   "cell_type": "markdown",
   "metadata": {},
   "source": [
    "Параметр **Reflectance** оставим как есть"
   ]
  },
  {
   "cell_type": "code",
   "execution_count": 18,
   "metadata": {},
   "outputs": [
    {
     "data": {
      "text/html": [
       "<div>\n",
       "<style scoped>\n",
       "    .dataframe tbody tr th:only-of-type {\n",
       "        vertical-align: middle;\n",
       "    }\n",
       "\n",
       "    .dataframe tbody tr th {\n",
       "        vertical-align: top;\n",
       "    }\n",
       "\n",
       "    .dataframe thead th {\n",
       "        text-align: right;\n",
       "    }\n",
       "</style>\n",
       "<table border=\"1\" class=\"dataframe\">\n",
       "  <thead>\n",
       "    <tr style=\"text-align: right;\">\n",
       "      <th></th>\n",
       "      <th>id</th>\n",
       "      <th>Easting</th>\n",
       "      <th>Northing</th>\n",
       "      <th>Height</th>\n",
       "      <th>Reflectance</th>\n",
       "      <th>Class</th>\n",
       "      <th>S1</th>\n",
       "      <th>S2</th>\n",
       "    </tr>\n",
       "  </thead>\n",
       "  <tbody>\n",
       "    <tr>\n",
       "      <th>0</th>\n",
       "      <td>2321251</td>\n",
       "      <td>696.5375</td>\n",
       "      <td>319.4704</td>\n",
       "      <td>276.8904</td>\n",
       "      <td>-11.14</td>\n",
       "      <td>0</td>\n",
       "      <td>1016.0079</td>\n",
       "      <td>1292.8983</td>\n",
       "    </tr>\n",
       "    <tr>\n",
       "      <th>1</th>\n",
       "      <td>3515173</td>\n",
       "      <td>710.3835</td>\n",
       "      <td>290.6394</td>\n",
       "      <td>275.8844</td>\n",
       "      <td>-15.16</td>\n",
       "      <td>3</td>\n",
       "      <td>1001.0229</td>\n",
       "      <td>1276.9073</td>\n",
       "    </tr>\n",
       "    <tr>\n",
       "      <th>2</th>\n",
       "      <td>2320295</td>\n",
       "      <td>696.8099</td>\n",
       "      <td>322.4615</td>\n",
       "      <td>276.9812</td>\n",
       "      <td>-13.59</td>\n",
       "      <td>0</td>\n",
       "      <td>1019.2714</td>\n",
       "      <td>1296.2526</td>\n",
       "    </tr>\n",
       "  </tbody>\n",
       "</table>\n",
       "</div>"
      ],
      "text/plain": [
       "        id   Easting  Northing    Height  Reflectance  Class         S1  \\\n",
       "0  2321251  696.5375  319.4704  276.8904       -11.14      0  1016.0079   \n",
       "1  3515173  710.3835  290.6394  275.8844       -15.16      3  1001.0229   \n",
       "2  2320295  696.8099  322.4615  276.9812       -13.59      0  1019.2714   \n",
       "\n",
       "          S2  \n",
       "0  1292.8983  \n",
       "1  1276.9073  \n",
       "2  1296.2526  "
      ]
     },
     "execution_count": 18,
     "metadata": {},
     "output_type": "execute_result"
    }
   ],
   "source": [
    "train.head(3) # смотрим первые записи "
   ]
  },
  {
   "cell_type": "code",
   "execution_count": 19,
   "metadata": {},
   "outputs": [
    {
     "data": {
      "text/html": [
       "<div>\n",
       "<style scoped>\n",
       "    .dataframe tbody tr th:only-of-type {\n",
       "        vertical-align: middle;\n",
       "    }\n",
       "\n",
       "    .dataframe tbody tr th {\n",
       "        vertical-align: top;\n",
       "    }\n",
       "\n",
       "    .dataframe thead th {\n",
       "        text-align: right;\n",
       "    }\n",
       "</style>\n",
       "<table border=\"1\" class=\"dataframe\">\n",
       "  <thead>\n",
       "    <tr style=\"text-align: right;\">\n",
       "      <th></th>\n",
       "      <th>id</th>\n",
       "      <th>Easting</th>\n",
       "      <th>Northing</th>\n",
       "      <th>Height</th>\n",
       "      <th>Reflectance</th>\n",
       "      <th>S1</th>\n",
       "      <th>S2</th>\n",
       "    </tr>\n",
       "  </thead>\n",
       "  <tbody>\n",
       "    <tr>\n",
       "      <th>0</th>\n",
       "      <td>1836965</td>\n",
       "      <td>754.6192</td>\n",
       "      <td>264.8129</td>\n",
       "      <td>277.0432</td>\n",
       "      <td>-13.99</td>\n",
       "      <td>1019.4321</td>\n",
       "      <td>1296.4753</td>\n",
       "    </tr>\n",
       "    <tr>\n",
       "      <th>1</th>\n",
       "      <td>3659389</td>\n",
       "      <td>654.4141</td>\n",
       "      <td>344.3676</td>\n",
       "      <td>272.0516</td>\n",
       "      <td>-10.99</td>\n",
       "      <td>998.7817</td>\n",
       "      <td>1270.8333</td>\n",
       "    </tr>\n",
       "    <tr>\n",
       "      <th>2</th>\n",
       "      <td>5433033</td>\n",
       "      <td>686.8574</td>\n",
       "      <td>333.6755</td>\n",
       "      <td>276.9768</td>\n",
       "      <td>-10.26</td>\n",
       "      <td>1020.5329</td>\n",
       "      <td>1297.5097</td>\n",
       "    </tr>\n",
       "  </tbody>\n",
       "</table>\n",
       "</div>"
      ],
      "text/plain": [
       "        id   Easting  Northing    Height  Reflectance         S1         S2\n",
       "0  1836965  754.6192  264.8129  277.0432       -13.99  1019.4321  1296.4753\n",
       "1  3659389  654.4141  344.3676  272.0516       -10.99   998.7817  1270.8333\n",
       "2  5433033  686.8574  333.6755  276.9768       -10.26  1020.5329  1297.5097"
      ]
     },
     "execution_count": 19,
     "metadata": {},
     "output_type": "execute_result"
    }
   ],
   "source": [
    "test.head(3) # смотрим первые записи "
   ]
  },
  {
   "cell_type": "markdown",
   "metadata": {
    "id": "VLOa56f5zfUg"
   },
   "source": [
    "## 2.6. Выделим выборки\n",
    "\n",
    "Переименуем класс 64 в класс 2 для дальнейшей работы, в итоге вернем классу 2 значение 64"
   ]
  },
  {
   "cell_type": "code",
   "execution_count": 20,
   "metadata": {
    "id": "czsoZexkyyTw"
   },
   "outputs": [
    {
     "data": {
      "text/plain": [
       "array([0, 3, 4, 5, 1, 2], dtype=int64)"
      ]
     },
     "execution_count": 20,
     "metadata": {},
     "output_type": "execute_result"
    }
   ],
   "source": [
    "X = train.drop(['Class', 'id'], axis = 1) \n",
    "y = train[['Class']]\n",
    "y.Class = y.Class.map(lambda x: 2 if x == 64 else x)\n",
    "y.Class.unique()"
   ]
  },
  {
   "cell_type": "code",
   "execution_count": 21,
   "metadata": {},
   "outputs": [],
   "source": [
    "X_test = test.drop(['id'], axis = 1)"
   ]
  },
  {
   "cell_type": "markdown",
   "metadata": {},
   "source": [
    "# 3. Over-sampling (устранение дисбаланса классов)"
   ]
  },
  {
   "cell_type": "markdown",
   "metadata": {},
   "source": [
    "Для устранение дисбаланса классов воспльзуемся **SMOTE** из библиотеки **imblearn**, этот алгоритм создает дополнительные синтетические наблюдения меньших классов.\n",
    "1. По умолчанию все классы \"выравниваются\", в каждом меньшем классе создается доплнительное количество синтетических наблюдений, чтобы в итоге общее количество наблюдений класса равнялось количеству наблюдений максимального класса. \n",
    "2. В параметр sampling_strategy можно подать словарь, в котором сопоставить каждому классу необходимое количество итоговых наблюдений.\n",
    "3. В нашем случае, при валидации было выявлено, что при полном \"выпавнивании\" классов избыточно формируются значения класса 3, поэтому было принято решение формировать меньшее количество синтетических наблюдений этого класса.\n",
    "4. В результате итеративного процесса была выявлена оптимальная пропорция для наблюдений 3 класса - она равняется 67.5% от количества наблюдений наибольшего - нулевого класса."
   ]
  },
  {
   "cell_type": "code",
   "execution_count": 22,
   "metadata": {},
   "outputs": [
    {
     "name": "stdout",
     "output_type": "stream",
     "text": [
      "Wall time: 50.3 s\n"
     ]
    }
   ],
   "source": [
    "%%time\n",
    "N0 = int(y[y.Class==0].count()) # количество наблюдений наибольшего - нулевого класса\n",
    "N3 = int(N0 * 0.675) # количество наблюдений для класса 3, равное 67.5% от оличество наблюдений наибольшего - нулевого класса\n",
    "sampling_strategy={1: N0, 2: N0, 3: N3, 4: N0, 5: N0} # словарь для подачи в алгоритм SMOTE\n",
    "\n",
    "smote = SMOTE(random_state=42, sampling_strategy=sampling_strategy, n_jobs=-1)  \n",
    "X_res, y_res = smote.fit_resample(X, y) # процесс Over-sampling"
   ]
  },
  {
   "cell_type": "code",
   "execution_count": 23,
   "metadata": {},
   "outputs": [
    {
     "data": {
      "image/png": "[encoded data removed]",
      "text/plain": [
       "<Figure size 864x576 with 1 Axes>"
      ]
     },
     "metadata": {
      "needs_background": "light"
     },
     "output_type": "display_data"
    }
   ],
   "source": [
    "plt.subplots(figsize=(12, 8))\n",
    "ax = sns.countplot(x=y['Class'])\n",
    "df = pd.DataFrame(y['Class'].value_counts())\n",
    "df['Norm'] = df.Class.map(lambda x: 100 * x / df.Class.sum())\n",
    "df['Sort'] = df.index\n",
    "df = df.sort_values(by='Sort')\n",
    "abs_values = df['Class']\n",
    "rel_values = df['Norm']\n",
    "lbls = [f'{p[0]} ({p[1]:.1f}%)' for p in zip(abs_values, rel_values)]\n",
    "ax.bar_label(container=ax.containers[0], labels=lbls)\n",
    "plt.setp(ax, xlabel=None, ylabel=None, title='Распределение классов по количесту наблюдений до Over-sampling')\n",
    "plt.show()"
   ]
  },
  {
   "cell_type": "code",
   "execution_count": 24,
   "metadata": {
    "scrolled": false
   },
   "outputs": [
    {
     "data": {
      "image/png": "[encoded data removed]",
      "text/plain": [
       "<Figure size 864x576 with 1 Axes>"
      ]
     },
     "metadata": {
      "needs_background": "light"
     },
     "output_type": "display_data"
    }
   ],
   "source": [
    "plt.subplots(figsize=(12, 8))\n",
    "ax = sns.countplot(x=y_res['Class'])\n",
    "df = pd.DataFrame(y_res['Class'].value_counts())\n",
    "df['Norm'] = df.Class.map(lambda x: 100 * x / df.Class.sum())\n",
    "df['Sort'] = df.index\n",
    "df = df.sort_values(by='Sort')\n",
    "abs_values = df['Class']\n",
    "rel_values = df['Norm']\n",
    "lbls = [f'{p[0]} ({p[1]:.1f}%)' for p in zip(abs_values, rel_values)]\n",
    "ax.bar_label(container=ax.containers[0], labels=lbls)\n",
    "plt.setp(ax, xlabel=None, ylabel=None, title='Распределение классов по количесту наблюдений после Oversampling')\n",
    "plt.show()"
   ]
  },
  {
   "cell_type": "markdown",
   "metadata": {
    "id": "X_HOvpXy2e3S"
   },
   "source": [
    "# 4. Machine Learning\n",
    "В целях выбора модели были рассмотрены градиентные бустинги: **CatBoost, XGBoost, LightGBM**. На валидации лучшие результаты показал **XGBoost** с гиперпараметрами:\n",
    "- learning_rate = 0.2 (шаг обучения)\n",
    "- n_estimators = 251 (количество деревьев)\n",
    "- max_depth = 6 (максимальная глубина лерева)\n",
    "- reg_lambda = 6 (коэффициент L2 - регуляризации)\n",
    "- reg_alpha = 2 (коэффициент L1 - регуляризации)   "
   ]
  },
  {
   "cell_type": "markdown",
   "metadata": {},
   "source": [
    "## 4.1. Обучение модели"
   ]
  },
  {
   "cell_type": "code",
   "execution_count": 25,
   "metadata": {},
   "outputs": [],
   "source": [
    "XGBC = XGBClassifier(\n",
    "                   learning_rate=0.2,\n",
    "                   n_estimators=245,\n",
    "                   max_depth=6,\n",
    "                   objective=\"multi:softmax\",\n",
    "                   nthread=-1,\n",
    "                   reg_lambda=6,\n",
    "                   reg_alpha=2,\n",
    "                   )"
   ]
  },
  {
   "cell_type": "markdown",
   "metadata": {},
   "source": [
    "## Внимание !!! Следующая ячейка выполняется 2-3 часа в зависимости от CPU"
   ]
  },
  {
   "cell_type": "code",
   "execution_count": 26,
   "metadata": {
    "scrolled": false
   },
   "outputs": [
    {
     "name": "stdout",
     "output_type": "stream",
     "text": [
      "Wall time: 2h 19min 36s\n"
     ]
    },
    {
     "data": {
      "text/html": [
       "<style>#sk-container-id-1 {color: black;background-color: white;}#sk-container-id-1 pre{padding: 0;}#sk-container-id-1 div.sk-toggleable {background-color: white;}#sk-container-id-1 label.sk-toggleable__label {cursor: pointer;display: block;width: 100%;margin-bottom: 0;padding: 0.3em;box-sizing: border-box;text-align: center;}#sk-container-id-1 label.sk-toggleable__label-arrow:before {content: \"▸\";float: left;margin-right: 0.25em;color: #696969;}#sk-container-id-1 label.sk-toggleable__label-arrow:hover:before {color: black;}#sk-container-id-1 div.sk-estimator:hover label.sk-toggleable__label-arrow:before {color: black;}#sk-container-id-1 div.sk-toggleable__content {max-height: 0;max-width: 0;overflow: hidden;text-align: left;background-color: #f0f8ff;}#sk-container-id-1 div.sk-toggleable__content pre {margin: 0.2em;color: black;border-radius: 0.25em;background-color: #f0f8ff;}#sk-container-id-1 input.sk-toggleable__control:checked~div.sk-toggleable__content {max-height: 200px;max-width: 100%;overflow: auto;}#sk-container-id-1 input.sk-toggleable__control:checked~label.sk-toggleable__label-arrow:before {content: \"▾\";}#sk-container-id-1 div.sk-estimator input.sk-toggleable__control:checked~label.sk-toggleable__label {background-color: #d4ebff;}#sk-container-id-1 div.sk-label input.sk-toggleable__control:checked~label.sk-toggleable__label {background-color: #d4ebff;}#sk-container-id-1 input.sk-hidden--visually {border: 0;clip: rect(1px 1px 1px 1px);clip: rect(1px, 1px, 1px, 1px);height: 1px;margin: -1px;overflow: hidden;padding: 0;position: absolute;width: 1px;}#sk-container-id-1 div.sk-estimator {font-family: monospace;background-color: #f0f8ff;border: 1px dotted black;border-radius: 0.25em;box-sizing: border-box;margin-bottom: 0.5em;}#sk-container-id-1 div.sk-estimator:hover {background-color: #d4ebff;}#sk-container-id-1 div.sk-parallel-item::after {content: \"\";width: 100%;border-bottom: 1px solid gray;flex-grow: 1;}#sk-container-id-1 div.sk-label:hover label.sk-toggleable__label {background-color: #d4ebff;}#sk-container-id-1 div.sk-serial::before {content: \"\";position: absolute;border-left: 1px solid gray;box-sizing: border-box;top: 0;bottom: 0;left: 50%;z-index: 0;}#sk-container-id-1 div.sk-serial {display: flex;flex-direction: column;align-items: center;background-color: white;padding-right: 0.2em;padding-left: 0.2em;position: relative;}#sk-container-id-1 div.sk-item {position: relative;z-index: 1;}#sk-container-id-1 div.sk-parallel {display: flex;align-items: stretch;justify-content: center;background-color: white;position: relative;}#sk-container-id-1 div.sk-item::before, #sk-container-id-1 div.sk-parallel-item::before {content: \"\";position: absolute;border-left: 1px solid gray;box-sizing: border-box;top: 0;bottom: 0;left: 50%;z-index: -1;}#sk-container-id-1 div.sk-parallel-item {display: flex;flex-direction: column;z-index: 1;position: relative;background-color: white;}#sk-container-id-1 div.sk-parallel-item:first-child::after {align-self: flex-end;width: 50%;}#sk-container-id-1 div.sk-parallel-item:last-child::after {align-self: flex-start;width: 50%;}#sk-container-id-1 div.sk-parallel-item:only-child::after {width: 0;}#sk-container-id-1 div.sk-dashed-wrapped {border: 1px dashed gray;margin: 0 0.4em 0.5em 0.4em;box-sizing: border-box;padding-bottom: 0.4em;background-color: white;}#sk-container-id-1 div.sk-label label {font-family: monospace;font-weight: bold;display: inline-block;line-height: 1.2em;}#sk-container-id-1 div.sk-label-container {text-align: center;}#sk-container-id-1 div.sk-container {/* jupyter's `normalize.less` sets `[hidden] { display: none; }` but bootstrap.min.css set `[hidden] { display: none !important; }` so we also need the `!important` here to be able to override the default hidden behavior on the sphinx rendered scikit-learn.org. See: https://github.com/scikit-learn/scikit-learn/issues/21755 */display: inline-block !important;position: relative;}#sk-container-id-1 div.sk-text-repr-fallback {display: none;}</style><div id=\"sk-container-id-1\" class=\"sk-top-container\"><div class=\"sk-text-repr-fallback\"><pre>XGBClassifier(base_score=0.5, booster=&#x27;gbtree&#x27;, callbacks=None,\n",
       "              colsample_bylevel=1, colsample_bynode=1, colsample_bytree=1,\n",
       "              early_stopping_rounds=None, enable_categorical=False,\n",
       "              eval_metric=None, gamma=0, gpu_id=-1, grow_policy=&#x27;depthwise&#x27;,\n",
       "              importance_type=None, interaction_constraints=&#x27;&#x27;,\n",
       "              learning_rate=0.2, max_bin=256, max_cat_to_onehot=4,\n",
       "              max_delta_step=0, max_depth=6, max_leaves=0, min_child_weight=1,\n",
       "              missing=nan, monotone_constraints=&#x27;()&#x27;, n_estimators=245,\n",
       "              n_jobs=-1, nthread=-1, num_parallel_tree=1,\n",
       "              objective=&#x27;multi:softmax&#x27;, predictor=&#x27;auto&#x27;, random_state=0, ...)</pre><b>In a Jupyter environment, please rerun this cell to show the HTML representation or trust the notebook. <br />On GitHub, the HTML representation is unable to render, please try loading this page with nbviewer.org.</b></div><div class=\"sk-container\" hidden><div class=\"sk-item\"><div class=\"sk-estimator sk-toggleable\"><input class=\"sk-toggleable__control sk-hidden--visually\" id=\"sk-estimator-id-1\" type=\"checkbox\" checked><label for=\"sk-estimator-id-1\" class=\"sk-toggleable__label sk-toggleable__label-arrow\">XGBClassifier</label><div class=\"sk-toggleable__content\"><pre>XGBClassifier(base_score=0.5, booster=&#x27;gbtree&#x27;, callbacks=None,\n",
       "              colsample_bylevel=1, colsample_bynode=1, colsample_bytree=1,\n",
       "              early_stopping_rounds=None, enable_categorical=False,\n",
       "              eval_metric=None, gamma=0, gpu_id=-1, grow_policy=&#x27;depthwise&#x27;,\n",
       "              importance_type=None, interaction_constraints=&#x27;&#x27;,\n",
       "              learning_rate=0.2, max_bin=256, max_cat_to_onehot=4,\n",
       "              max_delta_step=0, max_depth=6, max_leaves=0, min_child_weight=1,\n",
       "              missing=nan, monotone_constraints=&#x27;()&#x27;, n_estimators=245,\n",
       "              n_jobs=-1, nthread=-1, num_parallel_tree=1,\n",
       "              objective=&#x27;multi:softmax&#x27;, predictor=&#x27;auto&#x27;, random_state=0, ...)</pre></div></div></div></div></div>"
      ],
      "text/plain": [
       "XGBClassifier(base_score=0.5, booster='gbtree', callbacks=None,\n",
       "              colsample_bylevel=1, colsample_bynode=1, colsample_bytree=1,\n",
       "              early_stopping_rounds=None, enable_categorical=False,\n",
       "              eval_metric=None, gamma=0, gpu_id=-1, grow_policy='depthwise',\n",
       "              importance_type=None, interaction_constraints='',\n",
       "              learning_rate=0.2, max_bin=256, max_cat_to_onehot=4,\n",
       "              max_delta_step=0, max_depth=6, max_leaves=0, min_child_weight=1,\n",
       "              missing=nan, monotone_constraints='()', n_estimators=245,\n",
       "              n_jobs=-1, nthread=-1, num_parallel_tree=1,\n",
       "              objective='multi:softmax', predictor='auto', random_state=0, ...)"
      ]
     },
     "execution_count": 26,
     "metadata": {},
     "output_type": "execute_result"
    }
   ],
   "source": [
    "%%time\n",
    "XGBC.fit(X_res, y_res) # обучение модели"
   ]
  },
  {
   "cell_type": "markdown",
   "metadata": {},
   "source": [
    "<div class=\"alert alert-info\">\n",
    "Валидация модели производилась с использованием <b>MSI GeForce RTX 3060</b> при установлении в <b>XGBClassifier</b> двух дополнительных параметров: <b>predictor=\"gpu_predictor\", tree_method=\"gpu_hist\"</b>. При таких параметрах обучение производится за 1 минуту. Вместе с тем, без этих параметров обученная модель дает более точный прогноз (+ ~0.005 к метрике Recall)."
   ]
  },
  {
   "cell_type": "markdown",
   "metadata": {},
   "source": [
    "## 4.2. Feature importance"
   ]
  },
  {
   "cell_type": "code",
   "execution_count": 27,
   "metadata": {},
   "outputs": [
    {
     "data": {
      "image/png": "[encoded data removed]",
      "text/plain": [
       "<Figure size 1080x576 with 1 Axes>"
      ]
     },
     "metadata": {
      "needs_background": "light"
     },
     "output_type": "display_data"
    }
   ],
   "source": [
    "def plot_feature_importance(importance, names, model_type):\n",
    "    feature_importance = np.array(importance)\n",
    "    feature_names = np.array(names)\n",
    "    data={'feature_names':feature_names,\n",
    "          'feature_importance':feature_importance}\n",
    "    fi_df = pd.DataFrame(data) \n",
    "    fi_df.sort_values(by=['feature_importance'],    \n",
    "                     ascending=False,inplace=True)\n",
    "    plt.figure(figsize=(15,8))\n",
    "    sns.barplot(x=fi_df['feature_importance'], \n",
    "               y=fi_df['feature_names'])\n",
    "    plt.title(model_type + ' FEATURE IMPORTANCE')\n",
    "    plt.xlabel('FEATURE IMPORTANCE')\n",
    "    plt.ylabel('FEATURE NAMES')\n",
    "    plt.show()\n",
    "    \n",
    "plot_feature_importance(XGBC.feature_importances_, X.columns,'XGBOOST')"
   ]
  },
  {
   "cell_type": "markdown",
   "metadata": {},
   "source": [
    "# 5. Submit"
   ]
  },
  {
   "cell_type": "markdown",
   "metadata": {},
   "source": [
    "## 5.1. Формирование результата"
   ]
  },
  {
   "cell_type": "code",
   "execution_count": 28,
   "metadata": {},
   "outputs": [
    {
     "name": "stdout",
     "output_type": "stream",
     "text": [
      "Wall time: 19.6 s\n"
     ]
    },
    {
     "data": {
      "text/plain": [
       "array([0, 3, 0, ..., 0, 0, 3])"
      ]
     },
     "execution_count": 28,
     "metadata": {},
     "output_type": "execute_result"
    }
   ],
   "source": [
    "%%time\n",
    "pred_test = XGBC.predict(X_test)\n",
    "pred_test"
   ]
  },
  {
   "cell_type": "code",
   "execution_count": 29,
   "metadata": {},
   "outputs": [],
   "source": [
    "submit = pd.read_csv('sample_solution.csv')\n",
    "submit['Class'] = pred_test\n",
    "submit['Class'] = submit['Class'].astype('int32')\n",
    "submit['Class'] = submit['Class'].map(lambda x: 64 if x == 2 else x) # возращаем классу 2 значение 64\n",
    "submit.to_csv('submit_cbc.csv', index=False)"
   ]
  },
  {
   "cell_type": "markdown",
   "metadata": {},
   "source": [
    "## 5.2. Распределение классов, имеющихся  в train и предсказанных в test"
   ]
  },
  {
   "cell_type": "code",
   "execution_count": 30,
   "metadata": {
    "scrolled": false
   },
   "outputs": [
    {
     "data": {
      "image/png": "[encoded data removed]",
      "text/plain": [
       "<Figure size 1296x504 with 2 Axes>"
      ]
     },
     "metadata": {
      "needs_background": "light"
     },
     "output_type": "display_data"
    }
   ],
   "source": [
    "fig, axes = plt.subplots(1, 2, figsize=(18, 7))\n",
    "for ax, tit in zip(axes, ['Распределение классов по количесту наблюдений train', 'Распределение классов по количесту наблюдений test']):    \n",
    "    plt.setp(ax, xlabel=None, ylabel=None, title=tit)\n",
    "for ax, tg in zip(axes, [train, submit]):\n",
    "    sns.countplot(x=tg['Class'], ax=ax)\n",
    "    df = pd.DataFrame(tg['Class'].value_counts())\n",
    "    df['Norm'] = df.Class.map(lambda x: 100 * x / df.Class.sum())\n",
    "    df['Sort'] = df.index\n",
    "    df = df.sort_values(by='Sort')\n",
    "    abs_values = df['Class']\n",
    "    rel_values = df['Norm']\n",
    "    lbls = [f'{p[0]} ({p[1]:.1f}%)' for p in zip(abs_values, rel_values)]\n",
    "    ax.bar_label(container=ax.containers[0], labels=lbls)\n",
    "plt.show()"
   ]
  },
  {
   "cell_type": "markdown",
   "metadata": {},
   "source": [
    "# 5.3. Как обученная модель предсказывает саму обучающую выборку"
   ]
  },
  {
   "cell_type": "code",
   "execution_count": 31,
   "metadata": {},
   "outputs": [
    {
     "name": "stdout",
     "output_type": "stream",
     "text": [
      "Wall time: 45.5 s\n"
     ]
    }
   ],
   "source": [
    "%%time\n",
    "y_pred = XGBC.predict(X)"
   ]
  },
  {
   "cell_type": "code",
   "execution_count": 32,
   "metadata": {},
   "outputs": [
    {
     "name": "stdout",
     "output_type": "stream",
     "text": [
      "Recall по предсказаниям на тренировочных данны: 0.9894399517268612\n"
     ]
    }
   ],
   "source": [
    "recall_train = recall_score(y, y_pred, average='macro', zero_division=True)\n",
    "print('Recall по предсказаниям на тренировочных данны:', recall_train)"
   ]
  },
  {
   "cell_type": "code",
   "execution_count": 33,
   "metadata": {},
   "outputs": [
    {
     "data": {
      "image/png": "[encoded data removed]",
      "text/plain": [
       "<Figure size 1152x1008 with 2 Axes>"
      ]
     },
     "metadata": {
      "needs_background": "light"
     },
     "output_type": "display_data"
    }
   ],
   "source": [
    "cm = confusion_matrix(y, y_pred)\n",
    "class_names = sorted(y.Class.unique())\n",
    "fig = plt.figure(figsize=(16, 14))\n",
    "ax= plt.subplot()\n",
    "sns.heatmap(cm, annot=True, ax=ax, fmt='d', cmap='Blues')\n",
    "ax.set_xlabel('Predicted', fontsize=20)\n",
    "ax.xaxis.set_label_position('bottom')\n",
    "plt.xticks(rotation=90)\n",
    "ax.xaxis.set_ticklabels(class_names, fontsize=10)\n",
    "ax.xaxis.tick_bottom()\n",
    "ax.set_ylabel('True', fontsize=20)\n",
    "ax.yaxis.set_ticklabels(class_names, fontsize=10)\n",
    "plt.yticks(rotation=0)\n",
    "plt.title('Refined Confusion Matrix', fontsize=20)\n",
    "plt.show()"
   ]
  },
  {
   "cell_type": "markdown",
   "metadata": {},
   "source": [
    "# 6. Как производилась валидация"
   ]
  },
  {
   "cell_type": "markdown",
   "metadata": {},
   "source": [
    "<div class=\"alert alert-info\">\n",
    "Валидация модели производилась с использованием <b>MSI GeForce RTX 3060</b> при установлении в <b>XGBClassifier</b> двух дополнительных параметров: <b>predictor=\"gpu_predictor\", tree_method=\"gpu_hist\"</b>"
   ]
  },
  {
   "cell_type": "markdown",
   "metadata": {},
   "source": [
    "## 6.1. Формирование выборок"
   ]
  },
  {
   "cell_type": "markdown",
   "metadata": {},
   "source": [
    "Так как количство наблюдений в данных более 4 млн., а также в связи с ограниченными вычислительными ресурсами (автоматическая кросс-валидация в нашем случае оказалась невозможной) была сформирована единственная валидационная выборка для валидации модели. Мы посчитали это оптимальным решением."
   ]
  },
  {
   "cell_type": "code",
   "execution_count": 34,
   "metadata": {},
   "outputs": [
    {
     "name": "stdout",
     "output_type": "stream",
     "text": [
      "Wall time: 20.5 s\n"
     ]
    }
   ],
   "source": [
    "%%time\n",
    "X_train, X_valid, y_train, y_valid = train_test_split(X, y, test_size=0.20, stratify=y, random_state=12345)"
   ]
  },
  {
   "cell_type": "markdown",
   "metadata": {},
   "source": [
    "Валидационная выборка не подвергается процедуре Over-sampling, а X_train и  y_train проходят через Over-sampling"
   ]
  },
  {
   "cell_type": "markdown",
   "metadata": {},
   "source": [
    "## 6.2. Поиск оптимальной пропорции для наблюдений 3 класса"
   ]
  },
  {
   "cell_type": "code",
   "execution_count": 35,
   "metadata": {},
   "outputs": [
    {
     "name": "stderr",
     "output_type": "stream",
     "text": [
      "100%|████████████████████████████████████████████████████████████████████████████████████| 3/3 [04:31<00:00, 90.52s/it]"
     ]
    },
    {
     "name": "stdout",
     "output_type": "stream",
     "text": [
      "best_recall: 0.9760518850321972\n",
      "N3: 0.67\n",
      "Wall time: 4min 31s\n"
     ]
    },
    {
     "name": "stderr",
     "output_type": "stream",
     "text": [
      "\n"
     ]
    }
   ],
   "source": [
    "%%time\n",
    "N0 = int(y_train[y_train.Class==0].count()) # количество наблюдений наибольшего - нулевого класса\n",
    "best_recall = 0 \n",
    "best_3 = 0\n",
    "\n",
    "for i in tqdm(range(665, 680, 5)):\n",
    "    smote = SMOTE(random_state=42, sampling_strategy={1: N0, 2: N0, 3: int(N0*i/1000), 4: N0, 5: N0}, n_jobs=-1) \n",
    "    X_res, y_res = smote.fit_resample(X_train, y_train)\n",
    "\n",
    "    XGBC = XGBClassifier(\n",
    "                   learning_rate=0.2,\n",
    "                   n_estimators=251,\n",
    "                   max_depth=6,\n",
    "                   objective=\"multi:softmax\",\n",
    "                   nthread=-1,\n",
    "                   reg_lambda=6,\n",
    "                   alpha=2,\n",
    "                   predictor=\"gpu_predictor\",\n",
    "                   tree_method=\"gpu_hist\"\n",
    "                   ) \n",
    "\n",
    "    XGBC.fit(X_res, y_res['Class'])\n",
    "    pred_valid = XGBC.predict(X_valid)\n",
    "    recall_valid = recall_score(y_valid, pred_valid, average='macro', zero_division=True)\n",
    "    if recall_valid > best_recall:\n",
    "        best_recall = recall_valid\n",
    "        best_3 = i\n",
    "    \n",
    "print('best_recall:', best_recall)\n",
    "print('N3:', round(best_3 / 1000, 3))"
   ]
  },
  {
   "cell_type": "markdown",
   "metadata": {},
   "source": [
    "## 6.3. Поиск гиперпараметров (на примере параметра \"n_estimators\")"
   ]
  },
  {
   "cell_type": "code",
   "execution_count": 36,
   "metadata": {},
   "outputs": [
    {
     "name": "stderr",
     "output_type": "stream",
     "text": [
      "100%|██████████████████████████████████████████████████████████████████████████████████| 10/10 [09:16<00:00, 55.64s/it]"
     ]
    },
    {
     "name": "stdout",
     "output_type": "stream",
     "text": [
      "best_recall: 0.9758697637963354\n",
      "n_estimators 251\n",
      "Wall time: 9min 51s\n"
     ]
    },
    {
     "name": "stderr",
     "output_type": "stream",
     "text": [
      "\n"
     ]
    }
   ],
   "source": [
    "%%time\n",
    "smote = SMOTE(random_state=42, sampling_strategy={1: N0, 2: N0, 3: int(N0*0.675), 4: N0, 5: N0}, n_jobs=-1) \n",
    "X_res, y_res = smote.fit_resample(X_train, y_train)\n",
    "best_recall = 0\n",
    "n_est = 0\n",
    "for i in tqdm(range(245, 255)):\n",
    "    XGBC = XGBClassifier(\n",
    "                   learning_rate=0.2,\n",
    "                   n_estimators=i,\n",
    "                   max_depth=6,\n",
    "                   objective=\"multi:softmax\",\n",
    "                   nthread=-1,\n",
    "                   reg_lambda=6,\n",
    "                   alpha=2,\n",
    "                   predictor=\"gpu_predictor\",\n",
    "                   tree_method=\"gpu_hist\"\n",
    "                   )\n",
    "    XGBC.fit(X_res, y_res['Class'])\n",
    "    pred_valid = XGBC.predict(X_valid)\n",
    "    recall_valid = recall_score(y_valid, pred_valid, average='macro', zero_division=True)\n",
    "    if recall_valid > best_recall:\n",
    "        best_recall = recall_valid\n",
    "        n_est = i\n",
    "    \n",
    "print('best_recall:', best_recall)\n",
    "print('n_estimators', n_est)"
   ]
  },
  {
   "cell_type": "markdown",
   "metadata": {},
   "source": [
    "# 7. Выводы по результатм работы с данными"
   ]
  },
  {
   "cell_type": "markdown",
   "metadata": {},
   "source": [
    "## 7.1. Определенное масштабирование данных значительно улучшает результат"
   ]
  },
  {
   "cell_type": "markdown",
   "metadata": {},
   "source": [
    "## 7.2. Добавление признаков, являющихся линейными комбинациями исходных,  дает положительный эффект"
   ]
  },
  {
   "cell_type": "markdown",
   "metadata": {},
   "source": [
    "## 7.3. Как бы не казалось странным, но исключение из признаков показателя «Reflectance» (отражательная способность ТЛО) лишь незначительно снижает результат!!! Это можно интерпретировать так:  рассматриваемые элементы железнодорожной инфраструктуры имеют стандартные размеры и располагаются друг относительно друга достаточно закономерно, поэтому во многом достаточно их точных координат."
   ]
  },
  {
   "cell_type": "markdown",
   "metadata": {},
   "source": [
    "## 7.4. По Refined Confusion Matrix из пункта 5.3. данного проекта мы видим, что класс 1 - точки опор контактной сети предсказывается практически на 100%. Основные неточности возникают между классами 0 - точки земли и 3 - точки растительности что не выглядит критично."
   ]
  },
  {
   "cell_type": "code",
   "execution_count": null,
   "metadata": {},
   "outputs": [],
   "source": []
  }
 ],
 "metadata": {
  "colab": {
   "collapsed_sections": [],
   "provenance": []
  },
  "kernelspec": {
   "display_name": "Python 3 (ipykernel)",
   "language": "python",
   "name": "python3"
  },
  "language_info": {
   "codemirror_mode": {
    "name": "ipython",
    "version": 3
   },
   "file_extension": ".py",
   "mimetype": "text/x-python",
   "name": "python",
   "nbconvert_exporter": "python",
   "pygments_lexer": "ipython3",
   "version": "3.9.10"
  }
 },
 "nbformat": 4,
 "nbformat_minor": 1
}
